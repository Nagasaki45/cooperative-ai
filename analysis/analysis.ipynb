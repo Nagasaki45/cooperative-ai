{
 "cells": [
  {
   "cell_type": "code",
   "execution_count": 1,
   "metadata": {},
   "outputs": [],
   "source": [
    "import json\n",
    "import pathlib\n",
    "\n",
    "import pandas as pd\n",
    "import scipy.stats as stats\n",
    "import seaborn as sns\n",
    "import statsmodels.api as sm\n",
    "from statsmodels.formula.api import ols\n",
    "\n",
    "DATA_DIR = pathlib.Path('../data')"
   ]
  },
  {
   "cell_type": "markdown",
   "metadata": {},
   "source": [
    "## Optimal"
   ]
  },
  {
   "cell_type": "code",
   "execution_count": 2,
   "metadata": {},
   "outputs": [],
   "source": [
    "with (DATA_DIR / 'boardOptimals.json').open() as f:\n",
    "    optimal = json.load(f)"
   ]
  },
  {
   "cell_type": "markdown",
   "metadata": {},
   "source": [
    "## Load data"
   ]
  },
  {
   "cell_type": "code",
   "execution_count": 3,
   "metadata": {},
   "outputs": [],
   "source": [
    "def load_data(filepath):\n",
    "    with open(filepath) as f:\n",
    "        return json.load(f)"
   ]
  },
  {
   "cell_type": "code",
   "execution_count": 4,
   "metadata": {},
   "outputs": [],
   "source": [
    "def to_record(experiment):\n",
    "    return {\n",
    "        'board_id': experiment['gs']['boardID'],\n",
    "        'ticks': experiment['gs']['tick'],\n",
    "        'impossible_actions': experiment['gs']['impossibleActionCount'],\n",
    "        'first_winner_tick': experiment['gs']['firstWinnerTick'],\n",
    "        'heuristic': experiment['agentsParams'][0]['heuristic_method'],\n",
    "    }"
   ]
  },
  {
   "cell_type": "code",
   "execution_count": 5,
   "metadata": {},
   "outputs": [
    {
     "data": {
      "text/plain": [
       "{'boards': [{'boardID': 0, 'tick': 9, 'firstWinnerTick': 9},\n",
       "  {'boardID': 1, 'tick': 11, 'firstWinnerTick': 8},\n",
       "  {'boardID': 2, 'tick': 28, 'firstWinnerTick': 17},\n",
       "  {'boardID': 3, 'tick': 10, 'firstWinnerTick': 9},\n",
       "  {'boardID': 4, 'tick': 15, 'firstWinnerTick': 8},\n",
       "  {'boardID': 5, 'tick': 10, 'firstWinnerTick': 10},\n",
       "  {'boardID': 6, 'tick': 10, 'firstWinnerTick': 8}]}"
      ]
     },
     "execution_count": 5,
     "metadata": {},
     "output_type": "execute_result"
    }
   ],
   "source": [
    "optimal"
   ]
  },
  {
   "cell_type": "code",
   "execution_count": 6,
   "metadata": {
    "scrolled": false
   },
   "outputs": [],
   "source": [
    "df = pd.DataFrame.from_records(to_record(x) for x in load_data(DATA_DIR / '200_ticks.json'))\n",
    "df['success'] = df['ticks'] < 200\n",
    "df['second_winner_lag'] = df['ticks'] - df['first_winner_tick']\n",
    "df['solo'] = (df['heuristic'] % 2).astype(bool)\n",
    "df['binary'] = df['heuristic'] < 3\n",
    "\n",
    "def is_optimal(experiment):\n",
    "    for board in optimal['boards']:\n",
    "        if board['boardID'] == experiment['board_id']:\n",
    "            return experiment['ticks'] <= board['tick']\n",
    "    raise AssertionError(\"Shouldn't happen\")\n",
    "\n",
    "df['optimal'] = df.apply(is_optimal, axis=1)"
   ]
  },
  {
   "cell_type": "markdown",
   "metadata": {},
   "source": [
    "## Success percentage"
   ]
  },
  {
   "cell_type": "code",
   "execution_count": 7,
   "metadata": {},
   "outputs": [
    {
     "data": {
      "text/plain": [
       "<matplotlib.axes._subplots.AxesSubplot at 0x7fb963d51908>"
      ]
     },
     "execution_count": 7,
     "metadata": {},
     "output_type": "execute_result"
    },
    {
     "data": {
      "image/png": "[encoded data removed]",
      "text/plain": [
       "<Figure size 432x288 with 1 Axes>"
      ]
     },
     "metadata": {
      "needs_background": "light"
     },
     "output_type": "display_data"
    }
   ],
   "source": [
    "sns.barplot(\n",
    "    y='success',\n",
    "    x='board_id',\n",
    "    hue='heuristic',\n",
    "    data=df.groupby(['board_id', 'heuristic'])['success'].mean().reset_index(),\n",
    ")"
   ]
  },
  {
   "cell_type": "markdown",
   "metadata": {},
   "source": [
    "## Analysis including failures"
   ]
  },
  {
   "cell_type": "markdown",
   "metadata": {},
   "source": [
    "### Ticks"
   ]
  },
  {
   "cell_type": "code",
   "execution_count": 8,
   "metadata": {
    "scrolled": false
   },
   "outputs": [
    {
     "data": {
      "text/plain": [
       "<matplotlib.axes._subplots.AxesSubplot at 0x7fb963c4f4a8>"
      ]
     },
     "execution_count": 8,
     "metadata": {},
     "output_type": "execute_result"
    },
    {
     "data": {
      "image/png": "[encoded data removed]",
      "text/plain": [
       "<Figure size 432x288 with 1 Axes>"
      ]
     },
     "metadata": {
      "needs_background": "light"
     },
     "output_type": "display_data"
    }
   ],
   "source": [
    "sns.barplot(\n",
    "    y='ticks',\n",
    "    x='board_id',\n",
    "    hue='heuristic',\n",
    "    data=df,\n",
    ")"
   ]
  },
  {
   "cell_type": "markdown",
   "metadata": {},
   "source": [
    "### Impossible actions"
   ]
  },
  {
   "cell_type": "code",
   "execution_count": 9,
   "metadata": {},
   "outputs": [
    {
     "data": {
      "text/plain": [
       "<matplotlib.axes._subplots.AxesSubplot at 0x7fb963c28eb8>"
      ]
     },
     "execution_count": 9,
     "metadata": {},
     "output_type": "execute_result"
    },
    {
     "data": {
      "image/png": "[encoded data removed]",
      "text/plain": [
       "<Figure size 432x288 with 1 Axes>"
      ]
     },
     "metadata": {
      "needs_background": "light"
     },
     "output_type": "display_data"
    }
   ],
   "source": [
    "sns.barplot(\n",
    "    y='impossible_actions',\n",
    "    x='board_id',\n",
    "    hue='heuristic',\n",
    "    data=df,\n",
    ")"
   ]
  },
  {
   "cell_type": "markdown",
   "metadata": {},
   "source": [
    "### 2nd winner lag"
   ]
  },
  {
   "cell_type": "code",
   "execution_count": 10,
   "metadata": {},
   "outputs": [
    {
     "data": {
      "text/plain": [
       "<matplotlib.axes._subplots.AxesSubplot at 0x7fb96332fb38>"
      ]
     },
     "execution_count": 10,
     "metadata": {},
     "output_type": "execute_result"
    },
    {
     "data": {
      "image/png": "[encoded data removed]",
      "text/plain": [
       "<Figure size 432x288 with 1 Axes>"
      ]
     },
     "metadata": {
      "needs_background": "light"
     },
     "output_type": "display_data"
    }
   ],
   "source": [
    "sns.barplot(\n",
    "    y='second_winner_lag',\n",
    "    x='board_id',\n",
    "    hue='heuristic',\n",
    "    data=df,\n",
    ")"
   ]
  },
  {
   "cell_type": "markdown",
   "metadata": {},
   "source": [
    "## Successfull runs only"
   ]
  },
  {
   "cell_type": "markdown",
   "metadata": {},
   "source": [
    "### Ticks"
   ]
  },
  {
   "cell_type": "code",
   "execution_count": 11,
   "metadata": {},
   "outputs": [
    {
     "data": {
      "text/plain": [
       "<matplotlib.axes._subplots.AxesSubplot at 0x7fb9632206a0>"
      ]
     },
     "execution_count": 11,
     "metadata": {},
     "output_type": "execute_result"
    },
    {
     "data": {
      "image/png": "[encoded data removed]",
      "text/plain": [
       "<Figure size 432x288 with 1 Axes>"
      ]
     },
     "metadata": {
      "needs_background": "light"
     },
     "output_type": "display_data"
    }
   ],
   "source": [
    "sns.barplot(\n",
    "    y='ticks',\n",
    "    x='board_id',\n",
    "    hue='heuristic',\n",
    "    data=df[df['success']],\n",
    ")"
   ]
  },
  {
   "cell_type": "markdown",
   "metadata": {},
   "source": [
    "### Impossible actions"
   ]
  },
  {
   "cell_type": "code",
   "execution_count": 12,
   "metadata": {
    "scrolled": true
   },
   "outputs": [
    {
     "data": {
      "text/plain": [
       "<matplotlib.axes._subplots.AxesSubplot at 0x7fb9631309b0>"
      ]
     },
     "execution_count": 12,
     "metadata": {},
     "output_type": "execute_result"
    },
    {
     "data": {
      "image/png": "[encoded data removed]",
      "text/plain": [
       "<Figure size 432x288 with 1 Axes>"
      ]
     },
     "metadata": {
      "needs_background": "light"
     },
     "output_type": "display_data"
    }
   ],
   "source": [
    "sns.barplot(\n",
    "    y='impossible_actions',\n",
    "    x='board_id',\n",
    "    hue='heuristic',\n",
    "    data=df[df['success']],\n",
    ")"
   ]
  },
  {
   "cell_type": "markdown",
   "metadata": {},
   "source": [
    "### 2nd winner lag"
   ]
  },
  {
   "cell_type": "code",
   "execution_count": 13,
   "metadata": {},
   "outputs": [
    {
     "data": {
      "text/plain": [
       "<matplotlib.axes._subplots.AxesSubplot at 0x7fb962fe0240>"
      ]
     },
     "execution_count": 13,
     "metadata": {},
     "output_type": "execute_result"
    },
    {
     "data": {
      "image/png": "[encoded data removed]",
      "text/plain": [
       "<Figure size 432x288 with 1 Axes>"
      ]
     },
     "metadata": {
      "needs_background": "light"
     },
     "output_type": "display_data"
    }
   ],
   "source": [
    "sns.barplot(\n",
    "    y='second_winner_lag',\n",
    "    x='board_id',\n",
    "    hue='heuristic',\n",
    "    data=df[df['success']],\n",
    ")"
   ]
  },
  {
   "cell_type": "markdown",
   "metadata": {},
   "source": [
    "## Is the number of ticks different between solo and joint"
   ]
  },
  {
   "cell_type": "code",
   "execution_count": 14,
   "metadata": {},
   "outputs": [
    {
     "data": {
      "text/plain": [
       "Ttest_indResult(statistic=0.6675240298290025, pvalue=0.5044925157552055)"
      ]
     },
     "execution_count": 14,
     "metadata": {},
     "output_type": "execute_result"
    }
   ],
   "source": [
    "stats.ttest_ind(df['ticks'][df['solo'] == True], df['ticks'][df['solo'] == False])"
   ]
  },
  {
   "cell_type": "markdown",
   "metadata": {},
   "source": [
    "## Percentage optimal"
   ]
  },
  {
   "cell_type": "code",
   "execution_count": 15,
   "metadata": {},
   "outputs": [
    {
     "data": {
      "text/plain": [
       "0.002142857142857143"
      ]
     },
     "execution_count": 15,
     "metadata": {},
     "output_type": "execute_result"
    }
   ],
   "source": [
    "df['optimal'].mean()"
   ]
  },
  {
   "cell_type": "code",
   "execution_count": 16,
   "metadata": {},
   "outputs": [
    {
     "data": {
      "text/html": [
       "<div>\n",
       "<style scoped>\n",
       "    .dataframe tbody tr th:only-of-type {\n",
       "        vertical-align: middle;\n",
       "    }\n",
       "\n",
       "    .dataframe tbody tr th {\n",
       "        vertical-align: top;\n",
       "    }\n",
       "\n",
       "    .dataframe thead th {\n",
       "        text-align: right;\n",
       "    }\n",
       "</style>\n",
       "<table border=\"1\" class=\"dataframe\">\n",
       "  <thead>\n",
       "    <tr style=\"text-align: right;\">\n",
       "      <th></th>\n",
       "      <th>board_id</th>\n",
       "      <th>first_winner_tick</th>\n",
       "      <th>impossible_actions</th>\n",
       "      <th>ticks</th>\n",
       "      <th>success</th>\n",
       "      <th>second_winner_lag</th>\n",
       "      <th>solo</th>\n",
       "      <th>binary</th>\n",
       "      <th>optimal</th>\n",
       "    </tr>\n",
       "    <tr>\n",
       "      <th>heuristic</th>\n",
       "      <th></th>\n",
       "      <th></th>\n",
       "      <th></th>\n",
       "      <th></th>\n",
       "      <th></th>\n",
       "      <th></th>\n",
       "      <th></th>\n",
       "      <th></th>\n",
       "      <th></th>\n",
       "    </tr>\n",
       "  </thead>\n",
       "  <tbody>\n",
       "    <tr>\n",
       "      <th>1</th>\n",
       "      <td>3.123779</td>\n",
       "      <td>20.431596</td>\n",
       "      <td>1.786645</td>\n",
       "      <td>23.908795</td>\n",
       "      <td>1.0</td>\n",
       "      <td>3.477199</td>\n",
       "      <td>1.0</td>\n",
       "      <td>1.0</td>\n",
       "      <td>0.001629</td>\n",
       "    </tr>\n",
       "    <tr>\n",
       "      <th>2</th>\n",
       "      <td>3.148515</td>\n",
       "      <td>17.561056</td>\n",
       "      <td>0.374587</td>\n",
       "      <td>24.701320</td>\n",
       "      <td>1.0</td>\n",
       "      <td>7.140264</td>\n",
       "      <td>0.0</td>\n",
       "      <td>1.0</td>\n",
       "      <td>0.001650</td>\n",
       "    </tr>\n",
       "    <tr>\n",
       "      <th>3</th>\n",
       "      <td>3.062215</td>\n",
       "      <td>26.324734</td>\n",
       "      <td>1.216995</td>\n",
       "      <td>31.484067</td>\n",
       "      <td>1.0</td>\n",
       "      <td>5.159332</td>\n",
       "      <td>1.0</td>\n",
       "      <td>0.0</td>\n",
       "      <td>0.003035</td>\n",
       "    </tr>\n",
       "    <tr>\n",
       "      <th>4</th>\n",
       "      <td>3.035503</td>\n",
       "      <td>22.522189</td>\n",
       "      <td>1.683432</td>\n",
       "      <td>26.865385</td>\n",
       "      <td>1.0</td>\n",
       "      <td>4.343195</td>\n",
       "      <td>0.0</td>\n",
       "      <td>0.0</td>\n",
       "      <td>0.002959</td>\n",
       "    </tr>\n",
       "  </tbody>\n",
       "</table>\n",
       "</div>"
      ],
      "text/plain": [
       "           board_id  first_winner_tick  impossible_actions      ticks  \\\n",
       "heuristic                                                               \n",
       "1          3.123779          20.431596            1.786645  23.908795   \n",
       "2          3.148515          17.561056            0.374587  24.701320   \n",
       "3          3.062215          26.324734            1.216995  31.484067   \n",
       "4          3.035503          22.522189            1.683432  26.865385   \n",
       "\n",
       "           success  second_winner_lag  solo  binary   optimal  \n",
       "heuristic                                                      \n",
       "1              1.0           3.477199   1.0     1.0  0.001629  \n",
       "2              1.0           7.140264   0.0     1.0  0.001650  \n",
       "3              1.0           5.159332   1.0     0.0  0.003035  \n",
       "4              1.0           4.343195   0.0     0.0  0.002959  "
      ]
     },
     "execution_count": 16,
     "metadata": {},
     "output_type": "execute_result"
    }
   ],
   "source": [
    "df[df['ticks'] < 100].groupby('heuristic').mean()"
   ]
  },
  {
   "cell_type": "markdown",
   "metadata": {},
   "source": [
    "# ANOVAAAAAAAAA!"
   ]
  },
  {
   "cell_type": "markdown",
   "metadata": {},
   "source": [
    "### ticks ~ heuristic * board"
   ]
  },
  {
   "cell_type": "code",
   "execution_count": 17,
   "metadata": {},
   "outputs": [],
   "source": [
    "lm = ols('ticks ~ C(heuristic) * C(board_id)', data=df).fit()"
   ]
  },
  {
   "cell_type": "code",
   "execution_count": 18,
   "metadata": {},
   "outputs": [
    {
     "data": {
      "text/html": [
       "<table class=\"simpletable\">\n",
       "<caption>OLS Regression Results</caption>\n",
       "<tr>\n",
       "  <th>Dep. Variable:</th>          <td>ticks</td>      <th>  R-squared:         </th> <td>   0.789</td> \n",
       "</tr>\n",
       "<tr>\n",
       "  <th>Model:</th>                   <td>OLS</td>       <th>  Adj. R-squared:    </th> <td>   0.787</td> \n",
       "</tr>\n",
       "<tr>\n",
       "  <th>Method:</th>             <td>Least Squares</td>  <th>  F-statistic:       </th> <td>   384.7</td> \n",
       "</tr>\n",
       "<tr>\n",
       "  <th>Date:</th>             <td>Thu, 13 Jun 2019</td> <th>  Prob (F-statistic):</th>  <td>  0.00</td>  \n",
       "</tr>\n",
       "<tr>\n",
       "  <th>Time:</th>                 <td>13:06:12</td>     <th>  Log-Likelihood:    </th> <td> -12469.</td> \n",
       "</tr>\n",
       "<tr>\n",
       "  <th>No. Observations:</th>      <td>  2800</td>      <th>  AIC:               </th> <td>2.499e+04</td>\n",
       "</tr>\n",
       "<tr>\n",
       "  <th>Df Residuals:</th>          <td>  2772</td>      <th>  BIC:               </th> <td>2.516e+04</td>\n",
       "</tr>\n",
       "<tr>\n",
       "  <th>Df Model:</th>              <td>    27</td>      <th>                     </th>     <td> </td>    \n",
       "</tr>\n",
       "<tr>\n",
       "  <th>Covariance Type:</th>      <td>nonrobust</td>    <th>                     </th>     <td> </td>    \n",
       "</tr>\n",
       "</table>\n",
       "<table class=\"simpletable\">\n",
       "<tr>\n",
       "                   <td></td>                     <th>coef</th>     <th>std err</th>      <th>t</th>      <th>P>|t|</th>  <th>[0.025</th>    <th>0.975]</th>  \n",
       "</tr>\n",
       "<tr>\n",
       "  <th>Intercept</th>                          <td>   18.2300</td> <td>    2.089</td> <td>    8.727</td> <td> 0.000</td> <td>   14.134</td> <td>   22.326</td>\n",
       "</tr>\n",
       "<tr>\n",
       "  <th>C(heuristic)[T.2]</th>                  <td>   -0.3500</td> <td>    2.954</td> <td>   -0.118</td> <td> 0.906</td> <td>   -6.143</td> <td>    5.443</td>\n",
       "</tr>\n",
       "<tr>\n",
       "  <th>C(heuristic)[T.3]</th>                  <td>    8.6200</td> <td>    2.954</td> <td>    2.918</td> <td> 0.004</td> <td>    2.827</td> <td>   14.413</td>\n",
       "</tr>\n",
       "<tr>\n",
       "  <th>C(heuristic)[T.4]</th>                  <td>    4.5800</td> <td>    2.954</td> <td>    1.550</td> <td> 0.121</td> <td>   -1.213</td> <td>   10.373</td>\n",
       "</tr>\n",
       "<tr>\n",
       "  <th>C(board_id)[T.1]</th>                   <td>    2.5100</td> <td>    2.954</td> <td>    0.850</td> <td> 0.396</td> <td>   -3.283</td> <td>    8.303</td>\n",
       "</tr>\n",
       "<tr>\n",
       "  <th>C(board_id)[T.2]</th>                   <td>  136.0500</td> <td>    2.954</td> <td>   46.052</td> <td> 0.000</td> <td>  130.257</td> <td>  141.843</td>\n",
       "</tr>\n",
       "<tr>\n",
       "  <th>C(board_id)[T.3]</th>                   <td>    1.8600</td> <td>    2.954</td> <td>    0.630</td> <td> 0.529</td> <td>   -3.933</td> <td>    7.653</td>\n",
       "</tr>\n",
       "<tr>\n",
       "  <th>C(board_id)[T.4]</th>                   <td>   20.7900</td> <td>    2.954</td> <td>    7.037</td> <td> 0.000</td> <td>   14.997</td> <td>   26.583</td>\n",
       "</tr>\n",
       "<tr>\n",
       "  <th>C(board_id)[T.5]</th>                   <td>    1.8000</td> <td>    2.954</td> <td>    0.609</td> <td> 0.542</td> <td>   -3.993</td> <td>    7.593</td>\n",
       "</tr>\n",
       "<tr>\n",
       "  <th>C(board_id)[T.6]</th>                   <td>    1.5700</td> <td>    2.954</td> <td>    0.531</td> <td> 0.595</td> <td>   -4.223</td> <td>    7.363</td>\n",
       "</tr>\n",
       "<tr>\n",
       "  <th>C(heuristic)[T.2]:C(board_id)[T.1]</th> <td>    3.5300</td> <td>    4.178</td> <td>    0.845</td> <td> 0.398</td> <td>   -4.662</td> <td>   11.722</td>\n",
       "</tr>\n",
       "<tr>\n",
       "  <th>C(heuristic)[T.3]:C(board_id)[T.1]</th> <td>   -1.5800</td> <td>    4.178</td> <td>   -0.378</td> <td> 0.705</td> <td>   -9.772</td> <td>    6.612</td>\n",
       "</tr>\n",
       "<tr>\n",
       "  <th>C(heuristic)[T.4]:C(board_id)[T.1]</th> <td>   -2.9500</td> <td>    4.178</td> <td>   -0.706</td> <td> 0.480</td> <td>  -11.142</td> <td>    5.242</td>\n",
       "</tr>\n",
       "<tr>\n",
       "  <th>C(heuristic)[T.2]:C(board_id)[T.2]</th> <td>   29.3800</td> <td>    4.178</td> <td>    7.032</td> <td> 0.000</td> <td>   21.188</td> <td>   37.572</td>\n",
       "</tr>\n",
       "<tr>\n",
       "  <th>C(heuristic)[T.3]:C(board_id)[T.2]</th> <td>  -62.3900</td> <td>    4.178</td> <td>  -14.933</td> <td> 0.000</td> <td>  -70.582</td> <td>  -54.198</td>\n",
       "</tr>\n",
       "<tr>\n",
       "  <th>C(heuristic)[T.4]:C(board_id)[T.2]</th> <td>  -77.4700</td> <td>    4.178</td> <td>  -18.542</td> <td> 0.000</td> <td>  -85.662</td> <td>  -69.278</td>\n",
       "</tr>\n",
       "<tr>\n",
       "  <th>C(heuristic)[T.2]:C(board_id)[T.3]</th> <td>    5.2200</td> <td>    4.178</td> <td>    1.249</td> <td> 0.212</td> <td>   -2.972</td> <td>   13.412</td>\n",
       "</tr>\n",
       "<tr>\n",
       "  <th>C(heuristic)[T.3]:C(board_id)[T.3]</th> <td>   -2.8900</td> <td>    4.178</td> <td>   -0.692</td> <td> 0.489</td> <td>  -11.082</td> <td>    5.302</td>\n",
       "</tr>\n",
       "<tr>\n",
       "  <th>C(heuristic)[T.4]:C(board_id)[T.3]</th> <td>   -6.7600</td> <td>    4.178</td> <td>   -1.618</td> <td> 0.106</td> <td>  -14.952</td> <td>    1.432</td>\n",
       "</tr>\n",
       "<tr>\n",
       "  <th>C(heuristic)[T.2]:C(board_id)[T.4]</th> <td>  -11.4400</td> <td>    4.178</td> <td>   -2.738</td> <td> 0.006</td> <td>  -19.632</td> <td>   -3.248</td>\n",
       "</tr>\n",
       "<tr>\n",
       "  <th>C(heuristic)[T.3]:C(board_id)[T.4]</th> <td>  -12.6200</td> <td>    4.178</td> <td>   -3.021</td> <td> 0.003</td> <td>  -20.812</td> <td>   -4.428</td>\n",
       "</tr>\n",
       "<tr>\n",
       "  <th>C(heuristic)[T.4]:C(board_id)[T.4]</th> <td>   -8.9900</td> <td>    4.178</td> <td>   -2.152</td> <td> 0.032</td> <td>  -17.182</td> <td>   -0.798</td>\n",
       "</tr>\n",
       "<tr>\n",
       "  <th>C(heuristic)[T.2]:C(board_id)[T.5]</th> <td>    2.7000</td> <td>    4.178</td> <td>    0.646</td> <td> 0.518</td> <td>   -5.492</td> <td>   10.892</td>\n",
       "</tr>\n",
       "<tr>\n",
       "  <th>C(heuristic)[T.3]:C(board_id)[T.5]</th> <td>    3.5200</td> <td>    4.178</td> <td>    0.843</td> <td> 0.400</td> <td>   -4.672</td> <td>   11.712</td>\n",
       "</tr>\n",
       "<tr>\n",
       "  <th>C(heuristic)[T.4]:C(board_id)[T.5]</th> <td>    0.0600</td> <td>    4.178</td> <td>    0.014</td> <td> 0.989</td> <td>   -8.132</td> <td>    8.252</td>\n",
       "</tr>\n",
       "<tr>\n",
       "  <th>C(heuristic)[T.2]:C(board_id)[T.6]</th> <td>    9.1300</td> <td>    4.178</td> <td>    2.185</td> <td> 0.029</td> <td>    0.938</td> <td>   17.322</td>\n",
       "</tr>\n",
       "<tr>\n",
       "  <th>C(heuristic)[T.3]:C(board_id)[T.6]</th> <td>   -3.6600</td> <td>    4.178</td> <td>   -0.876</td> <td> 0.381</td> <td>  -11.852</td> <td>    4.532</td>\n",
       "</tr>\n",
       "<tr>\n",
       "  <th>C(heuristic)[T.4]:C(board_id)[T.6]</th> <td>   -7.3000</td> <td>    4.178</td> <td>   -1.747</td> <td> 0.081</td> <td>  -15.492</td> <td>    0.892</td>\n",
       "</tr>\n",
       "</table>\n",
       "<table class=\"simpletable\">\n",
       "<tr>\n",
       "  <th>Omnibus:</th>       <td>852.000</td> <th>  Durbin-Watson:     </th> <td>   2.057</td> \n",
       "</tr>\n",
       "<tr>\n",
       "  <th>Prob(Omnibus):</th> <td> 0.000</td>  <th>  Jarque-Bera (JB):  </th> <td>14272.120</td>\n",
       "</tr>\n",
       "<tr>\n",
       "  <th>Skew:</th>          <td> 0.992</td>  <th>  Prob(JB):          </th> <td>    0.00</td> \n",
       "</tr>\n",
       "<tr>\n",
       "  <th>Kurtosis:</th>      <td>13.881</td>  <th>  Cond. No.          </th> <td>    37.7</td> \n",
       "</tr>\n",
       "</table><br/><br/>Warnings:<br/>[1] Standard Errors assume that the covariance matrix of the errors is correctly specified."
      ],
      "text/plain": [
       "<class 'statsmodels.iolib.summary.Summary'>\n",
       "\"\"\"\n",
       "                            OLS Regression Results                            \n",
       "==============================================================================\n",
       "Dep. Variable:                  ticks   R-squared:                       0.789\n",
       "Model:                            OLS   Adj. R-squared:                  0.787\n",
       "Method:                 Least Squares   F-statistic:                     384.7\n",
       "Date:                Thu, 13 Jun 2019   Prob (F-statistic):               0.00\n",
       "Time:                        13:06:12   Log-Likelihood:                -12469.\n",
       "No. Observations:                2800   AIC:                         2.499e+04\n",
       "Df Residuals:                    2772   BIC:                         2.516e+04\n",
       "Df Model:                          27                                         \n",
       "Covariance Type:            nonrobust                                         \n",
       "======================================================================================================\n",
       "                                         coef    std err          t      P>|t|      [0.025      0.975]\n",
       "------------------------------------------------------------------------------------------------------\n",
       "Intercept                             18.2300      2.089      8.727      0.000      14.134      22.326\n",
       "C(heuristic)[T.2]                     -0.3500      2.954     -0.118      0.906      -6.143       5.443\n",
       "C(heuristic)[T.3]                      8.6200      2.954      2.918      0.004       2.827      14.413\n",
       "C(heuristic)[T.4]                      4.5800      2.954      1.550      0.121      -1.213      10.373\n",
       "C(board_id)[T.1]                       2.5100      2.954      0.850      0.396      -3.283       8.303\n",
       "C(board_id)[T.2]                     136.0500      2.954     46.052      0.000     130.257     141.843\n",
       "C(board_id)[T.3]                       1.8600      2.954      0.630      0.529      -3.933       7.653\n",
       "C(board_id)[T.4]                      20.7900      2.954      7.037      0.000      14.997      26.583\n",
       "C(board_id)[T.5]                       1.8000      2.954      0.609      0.542      -3.993       7.593\n",
       "C(board_id)[T.6]                       1.5700      2.954      0.531      0.595      -4.223       7.363\n",
       "C(heuristic)[T.2]:C(board_id)[T.1]     3.5300      4.178      0.845      0.398      -4.662      11.722\n",
       "C(heuristic)[T.3]:C(board_id)[T.1]    -1.5800      4.178     -0.378      0.705      -9.772       6.612\n",
       "C(heuristic)[T.4]:C(board_id)[T.1]    -2.9500      4.178     -0.706      0.480     -11.142       5.242\n",
       "C(heuristic)[T.2]:C(board_id)[T.2]    29.3800      4.178      7.032      0.000      21.188      37.572\n",
       "C(heuristic)[T.3]:C(board_id)[T.2]   -62.3900      4.178    -14.933      0.000     -70.582     -54.198\n",
       "C(heuristic)[T.4]:C(board_id)[T.2]   -77.4700      4.178    -18.542      0.000     -85.662     -69.278\n",
       "C(heuristic)[T.2]:C(board_id)[T.3]     5.2200      4.178      1.249      0.212      -2.972      13.412\n",
       "C(heuristic)[T.3]:C(board_id)[T.3]    -2.8900      4.178     -0.692      0.489     -11.082       5.302\n",
       "C(heuristic)[T.4]:C(board_id)[T.3]    -6.7600      4.178     -1.618      0.106     -14.952       1.432\n",
       "C(heuristic)[T.2]:C(board_id)[T.4]   -11.4400      4.178     -2.738      0.006     -19.632      -3.248\n",
       "C(heuristic)[T.3]:C(board_id)[T.4]   -12.6200      4.178     -3.021      0.003     -20.812      -4.428\n",
       "C(heuristic)[T.4]:C(board_id)[T.4]    -8.9900      4.178     -2.152      0.032     -17.182      -0.798\n",
       "C(heuristic)[T.2]:C(board_id)[T.5]     2.7000      4.178      0.646      0.518      -5.492      10.892\n",
       "C(heuristic)[T.3]:C(board_id)[T.5]     3.5200      4.178      0.843      0.400      -4.672      11.712\n",
       "C(heuristic)[T.4]:C(board_id)[T.5]     0.0600      4.178      0.014      0.989      -8.132       8.252\n",
       "C(heuristic)[T.2]:C(board_id)[T.6]     9.1300      4.178      2.185      0.029       0.938      17.322\n",
       "C(heuristic)[T.3]:C(board_id)[T.6]    -3.6600      4.178     -0.876      0.381     -11.852       4.532\n",
       "C(heuristic)[T.4]:C(board_id)[T.6]    -7.3000      4.178     -1.747      0.081     -15.492       0.892\n",
       "==============================================================================\n",
       "Omnibus:                      852.000   Durbin-Watson:                   2.057\n",
       "Prob(Omnibus):                  0.000   Jarque-Bera (JB):            14272.120\n",
       "Skew:                           0.992   Prob(JB):                         0.00\n",
       "Kurtosis:                      13.881   Cond. No.                         37.7\n",
       "==============================================================================\n",
       "\n",
       "Warnings:\n",
       "[1] Standard Errors assume that the covariance matrix of the errors is correctly specified.\n",
       "\"\"\""
      ]
     },
     "execution_count": 18,
     "metadata": {},
     "output_type": "execute_result"
    }
   ],
   "source": [
    "lm.summary()"
   ]
  },
  {
   "cell_type": "code",
   "execution_count": 19,
   "metadata": {},
   "outputs": [
    {
     "data": {
      "text/html": [
       "<div>\n",
       "<style scoped>\n",
       "    .dataframe tbody tr th:only-of-type {\n",
       "        vertical-align: middle;\n",
       "    }\n",
       "\n",
       "    .dataframe tbody tr th {\n",
       "        vertical-align: top;\n",
       "    }\n",
       "\n",
       "    .dataframe thead th {\n",
       "        text-align: right;\n",
       "    }\n",
       "</style>\n",
       "<table border=\"1\" class=\"dataframe\">\n",
       "  <thead>\n",
       "    <tr style=\"text-align: right;\">\n",
       "      <th></th>\n",
       "      <th>sum_sq</th>\n",
       "      <th>df</th>\n",
       "      <th>F</th>\n",
       "      <th>PR(&gt;F)</th>\n",
       "    </tr>\n",
       "  </thead>\n",
       "  <tbody>\n",
       "    <tr>\n",
       "      <th>C(heuristic)</th>\n",
       "      <td>8.599125e+04</td>\n",
       "      <td>3.0</td>\n",
       "      <td>65.683911</td>\n",
       "      <td>5.009681e-41</td>\n",
       "    </tr>\n",
       "    <tr>\n",
       "      <th>C(board_id)</th>\n",
       "      <td>3.830049e+06</td>\n",
       "      <td>6.0</td>\n",
       "      <td>1462.780218</td>\n",
       "      <td>0.000000e+00</td>\n",
       "    </tr>\n",
       "    <tr>\n",
       "      <th>C(heuristic):C(board_id)</th>\n",
       "      <td>6.163128e+05</td>\n",
       "      <td>18.0</td>\n",
       "      <td>78.461156</td>\n",
       "      <td>8.190075e-232</td>\n",
       "    </tr>\n",
       "    <tr>\n",
       "      <th>Residual</th>\n",
       "      <td>1.209671e+06</td>\n",
       "      <td>2772.0</td>\n",
       "      <td>NaN</td>\n",
       "      <td>NaN</td>\n",
       "    </tr>\n",
       "  </tbody>\n",
       "</table>\n",
       "</div>"
      ],
      "text/plain": [
       "                                sum_sq      df            F         PR(>F)\n",
       "C(heuristic)              8.599125e+04     3.0    65.683911   5.009681e-41\n",
       "C(board_id)               3.830049e+06     6.0  1462.780218   0.000000e+00\n",
       "C(heuristic):C(board_id)  6.163128e+05    18.0    78.461156  8.190075e-232\n",
       "Residual                  1.209671e+06  2772.0          NaN            NaN"
      ]
     },
     "execution_count": 19,
     "metadata": {},
     "output_type": "execute_result"
    }
   ],
   "source": [
    "sm.stats.anova_lm(lm, typ=2)"
   ]
  },
  {
   "cell_type": "code",
   "execution_count": 20,
   "metadata": {
    "scrolled": false
   },
   "outputs": [
    {
     "data": {
      "text/html": [
       "<table class=\"simpletable\">\n",
       "<caption>OLS Regression Results</caption>\n",
       "<tr>\n",
       "  <th>Dep. Variable:</th>          <td>ticks</td>      <th>  R-squared:         </th> <td>   0.789</td> \n",
       "</tr>\n",
       "<tr>\n",
       "  <th>Model:</th>                   <td>OLS</td>       <th>  Adj. R-squared:    </th> <td>   0.787</td> \n",
       "</tr>\n",
       "<tr>\n",
       "  <th>Method:</th>             <td>Least Squares</td>  <th>  F-statistic:       </th> <td>   384.7</td> \n",
       "</tr>\n",
       "<tr>\n",
       "  <th>Date:</th>             <td>Thu, 13 Jun 2019</td> <th>  Prob (F-statistic):</th>  <td>  0.00</td>  \n",
       "</tr>\n",
       "<tr>\n",
       "  <th>Time:</th>                 <td>13:06:12</td>     <th>  Log-Likelihood:    </th> <td> -12469.</td> \n",
       "</tr>\n",
       "<tr>\n",
       "  <th>No. Observations:</th>      <td>  2800</td>      <th>  AIC:               </th> <td>2.499e+04</td>\n",
       "</tr>\n",
       "<tr>\n",
       "  <th>Df Residuals:</th>          <td>  2772</td>      <th>  BIC:               </th> <td>2.516e+04</td>\n",
       "</tr>\n",
       "<tr>\n",
       "  <th>Df Model:</th>              <td>    27</td>      <th>                     </th>     <td> </td>    \n",
       "</tr>\n",
       "<tr>\n",
       "  <th>Covariance Type:</th>      <td>nonrobust</td>    <th>                     </th>     <td> </td>    \n",
       "</tr>\n",
       "</table>\n",
       "<table class=\"simpletable\">\n",
       "<tr>\n",
       "                   <td></td>                     <th>coef</th>     <th>std err</th>      <th>t</th>      <th>P>|t|</th>  <th>[0.025</th>    <th>0.975]</th>  \n",
       "</tr>\n",
       "<tr>\n",
       "  <th>Intercept</th>                          <td>   18.2300</td> <td>    2.089</td> <td>    8.727</td> <td> 0.000</td> <td>   14.134</td> <td>   22.326</td>\n",
       "</tr>\n",
       "<tr>\n",
       "  <th>C(heuristic)[T.2]</th>                  <td>   -0.3500</td> <td>    2.954</td> <td>   -0.118</td> <td> 0.906</td> <td>   -6.143</td> <td>    5.443</td>\n",
       "</tr>\n",
       "<tr>\n",
       "  <th>C(heuristic)[T.3]</th>                  <td>    8.6200</td> <td>    2.954</td> <td>    2.918</td> <td> 0.004</td> <td>    2.827</td> <td>   14.413</td>\n",
       "</tr>\n",
       "<tr>\n",
       "  <th>C(heuristic)[T.4]</th>                  <td>    4.5800</td> <td>    2.954</td> <td>    1.550</td> <td> 0.121</td> <td>   -1.213</td> <td>   10.373</td>\n",
       "</tr>\n",
       "<tr>\n",
       "  <th>C(board_id)[T.1]</th>                   <td>    2.5100</td> <td>    2.954</td> <td>    0.850</td> <td> 0.396</td> <td>   -3.283</td> <td>    8.303</td>\n",
       "</tr>\n",
       "<tr>\n",
       "  <th>C(board_id)[T.2]</th>                   <td>  136.0500</td> <td>    2.954</td> <td>   46.052</td> <td> 0.000</td> <td>  130.257</td> <td>  141.843</td>\n",
       "</tr>\n",
       "<tr>\n",
       "  <th>C(board_id)[T.3]</th>                   <td>    1.8600</td> <td>    2.954</td> <td>    0.630</td> <td> 0.529</td> <td>   -3.933</td> <td>    7.653</td>\n",
       "</tr>\n",
       "<tr>\n",
       "  <th>C(board_id)[T.4]</th>                   <td>   20.7900</td> <td>    2.954</td> <td>    7.037</td> <td> 0.000</td> <td>   14.997</td> <td>   26.583</td>\n",
       "</tr>\n",
       "<tr>\n",
       "  <th>C(board_id)[T.5]</th>                   <td>    1.8000</td> <td>    2.954</td> <td>    0.609</td> <td> 0.542</td> <td>   -3.993</td> <td>    7.593</td>\n",
       "</tr>\n",
       "<tr>\n",
       "  <th>C(board_id)[T.6]</th>                   <td>    1.5700</td> <td>    2.954</td> <td>    0.531</td> <td> 0.595</td> <td>   -4.223</td> <td>    7.363</td>\n",
       "</tr>\n",
       "<tr>\n",
       "  <th>C(heuristic)[T.2]:C(board_id)[T.1]</th> <td>    3.5300</td> <td>    4.178</td> <td>    0.845</td> <td> 0.398</td> <td>   -4.662</td> <td>   11.722</td>\n",
       "</tr>\n",
       "<tr>\n",
       "  <th>C(heuristic)[T.3]:C(board_id)[T.1]</th> <td>   -1.5800</td> <td>    4.178</td> <td>   -0.378</td> <td> 0.705</td> <td>   -9.772</td> <td>    6.612</td>\n",
       "</tr>\n",
       "<tr>\n",
       "  <th>C(heuristic)[T.4]:C(board_id)[T.1]</th> <td>   -2.9500</td> <td>    4.178</td> <td>   -0.706</td> <td> 0.480</td> <td>  -11.142</td> <td>    5.242</td>\n",
       "</tr>\n",
       "<tr>\n",
       "  <th>C(heuristic)[T.2]:C(board_id)[T.2]</th> <td>   29.3800</td> <td>    4.178</td> <td>    7.032</td> <td> 0.000</td> <td>   21.188</td> <td>   37.572</td>\n",
       "</tr>\n",
       "<tr>\n",
       "  <th>C(heuristic)[T.3]:C(board_id)[T.2]</th> <td>  -62.3900</td> <td>    4.178</td> <td>  -14.933</td> <td> 0.000</td> <td>  -70.582</td> <td>  -54.198</td>\n",
       "</tr>\n",
       "<tr>\n",
       "  <th>C(heuristic)[T.4]:C(board_id)[T.2]</th> <td>  -77.4700</td> <td>    4.178</td> <td>  -18.542</td> <td> 0.000</td> <td>  -85.662</td> <td>  -69.278</td>\n",
       "</tr>\n",
       "<tr>\n",
       "  <th>C(heuristic)[T.2]:C(board_id)[T.3]</th> <td>    5.2200</td> <td>    4.178</td> <td>    1.249</td> <td> 0.212</td> <td>   -2.972</td> <td>   13.412</td>\n",
       "</tr>\n",
       "<tr>\n",
       "  <th>C(heuristic)[T.3]:C(board_id)[T.3]</th> <td>   -2.8900</td> <td>    4.178</td> <td>   -0.692</td> <td> 0.489</td> <td>  -11.082</td> <td>    5.302</td>\n",
       "</tr>\n",
       "<tr>\n",
       "  <th>C(heuristic)[T.4]:C(board_id)[T.3]</th> <td>   -6.7600</td> <td>    4.178</td> <td>   -1.618</td> <td> 0.106</td> <td>  -14.952</td> <td>    1.432</td>\n",
       "</tr>\n",
       "<tr>\n",
       "  <th>C(heuristic)[T.2]:C(board_id)[T.4]</th> <td>  -11.4400</td> <td>    4.178</td> <td>   -2.738</td> <td> 0.006</td> <td>  -19.632</td> <td>   -3.248</td>\n",
       "</tr>\n",
       "<tr>\n",
       "  <th>C(heuristic)[T.3]:C(board_id)[T.4]</th> <td>  -12.6200</td> <td>    4.178</td> <td>   -3.021</td> <td> 0.003</td> <td>  -20.812</td> <td>   -4.428</td>\n",
       "</tr>\n",
       "<tr>\n",
       "  <th>C(heuristic)[T.4]:C(board_id)[T.4]</th> <td>   -8.9900</td> <td>    4.178</td> <td>   -2.152</td> <td> 0.032</td> <td>  -17.182</td> <td>   -0.798</td>\n",
       "</tr>\n",
       "<tr>\n",
       "  <th>C(heuristic)[T.2]:C(board_id)[T.5]</th> <td>    2.7000</td> <td>    4.178</td> <td>    0.646</td> <td> 0.518</td> <td>   -5.492</td> <td>   10.892</td>\n",
       "</tr>\n",
       "<tr>\n",
       "  <th>C(heuristic)[T.3]:C(board_id)[T.5]</th> <td>    3.5200</td> <td>    4.178</td> <td>    0.843</td> <td> 0.400</td> <td>   -4.672</td> <td>   11.712</td>\n",
       "</tr>\n",
       "<tr>\n",
       "  <th>C(heuristic)[T.4]:C(board_id)[T.5]</th> <td>    0.0600</td> <td>    4.178</td> <td>    0.014</td> <td> 0.989</td> <td>   -8.132</td> <td>    8.252</td>\n",
       "</tr>\n",
       "<tr>\n",
       "  <th>C(heuristic)[T.2]:C(board_id)[T.6]</th> <td>    9.1300</td> <td>    4.178</td> <td>    2.185</td> <td> 0.029</td> <td>    0.938</td> <td>   17.322</td>\n",
       "</tr>\n",
       "<tr>\n",
       "  <th>C(heuristic)[T.3]:C(board_id)[T.6]</th> <td>   -3.6600</td> <td>    4.178</td> <td>   -0.876</td> <td> 0.381</td> <td>  -11.852</td> <td>    4.532</td>\n",
       "</tr>\n",
       "<tr>\n",
       "  <th>C(heuristic)[T.4]:C(board_id)[T.6]</th> <td>   -7.3000</td> <td>    4.178</td> <td>   -1.747</td> <td> 0.081</td> <td>  -15.492</td> <td>    0.892</td>\n",
       "</tr>\n",
       "</table>\n",
       "<table class=\"simpletable\">\n",
       "<tr>\n",
       "  <th>Omnibus:</th>       <td>852.000</td> <th>  Durbin-Watson:     </th> <td>   2.057</td> \n",
       "</tr>\n",
       "<tr>\n",
       "  <th>Prob(Omnibus):</th> <td> 0.000</td>  <th>  Jarque-Bera (JB):  </th> <td>14272.120</td>\n",
       "</tr>\n",
       "<tr>\n",
       "  <th>Skew:</th>          <td> 0.992</td>  <th>  Prob(JB):          </th> <td>    0.00</td> \n",
       "</tr>\n",
       "<tr>\n",
       "  <th>Kurtosis:</th>      <td>13.881</td>  <th>  Cond. No.          </th> <td>    37.7</td> \n",
       "</tr>\n",
       "</table><br/><br/>Warnings:<br/>[1] Standard Errors assume that the covariance matrix of the errors is correctly specified."
      ],
      "text/plain": [
       "<class 'statsmodels.iolib.summary.Summary'>\n",
       "\"\"\"\n",
       "                            OLS Regression Results                            \n",
       "==============================================================================\n",
       "Dep. Variable:                  ticks   R-squared:                       0.789\n",
       "Model:                            OLS   Adj. R-squared:                  0.787\n",
       "Method:                 Least Squares   F-statistic:                     384.7\n",
       "Date:                Thu, 13 Jun 2019   Prob (F-statistic):               0.00\n",
       "Time:                        13:06:12   Log-Likelihood:                -12469.\n",
       "No. Observations:                2800   AIC:                         2.499e+04\n",
       "Df Residuals:                    2772   BIC:                         2.516e+04\n",
       "Df Model:                          27                                         \n",
       "Covariance Type:            nonrobust                                         \n",
       "======================================================================================================\n",
       "                                         coef    std err          t      P>|t|      [0.025      0.975]\n",
       "------------------------------------------------------------------------------------------------------\n",
       "Intercept                             18.2300      2.089      8.727      0.000      14.134      22.326\n",
       "C(heuristic)[T.2]                     -0.3500      2.954     -0.118      0.906      -6.143       5.443\n",
       "C(heuristic)[T.3]                      8.6200      2.954      2.918      0.004       2.827      14.413\n",
       "C(heuristic)[T.4]                      4.5800      2.954      1.550      0.121      -1.213      10.373\n",
       "C(board_id)[T.1]                       2.5100      2.954      0.850      0.396      -3.283       8.303\n",
       "C(board_id)[T.2]                     136.0500      2.954     46.052      0.000     130.257     141.843\n",
       "C(board_id)[T.3]                       1.8600      2.954      0.630      0.529      -3.933       7.653\n",
       "C(board_id)[T.4]                      20.7900      2.954      7.037      0.000      14.997      26.583\n",
       "C(board_id)[T.5]                       1.8000      2.954      0.609      0.542      -3.993       7.593\n",
       "C(board_id)[T.6]                       1.5700      2.954      0.531      0.595      -4.223       7.363\n",
       "C(heuristic)[T.2]:C(board_id)[T.1]     3.5300      4.178      0.845      0.398      -4.662      11.722\n",
       "C(heuristic)[T.3]:C(board_id)[T.1]    -1.5800      4.178     -0.378      0.705      -9.772       6.612\n",
       "C(heuristic)[T.4]:C(board_id)[T.1]    -2.9500      4.178     -0.706      0.480     -11.142       5.242\n",
       "C(heuristic)[T.2]:C(board_id)[T.2]    29.3800      4.178      7.032      0.000      21.188      37.572\n",
       "C(heuristic)[T.3]:C(board_id)[T.2]   -62.3900      4.178    -14.933      0.000     -70.582     -54.198\n",
       "C(heuristic)[T.4]:C(board_id)[T.2]   -77.4700      4.178    -18.542      0.000     -85.662     -69.278\n",
       "C(heuristic)[T.2]:C(board_id)[T.3]     5.2200      4.178      1.249      0.212      -2.972      13.412\n",
       "C(heuristic)[T.3]:C(board_id)[T.3]    -2.8900      4.178     -0.692      0.489     -11.082       5.302\n",
       "C(heuristic)[T.4]:C(board_id)[T.3]    -6.7600      4.178     -1.618      0.106     -14.952       1.432\n",
       "C(heuristic)[T.2]:C(board_id)[T.4]   -11.4400      4.178     -2.738      0.006     -19.632      -3.248\n",
       "C(heuristic)[T.3]:C(board_id)[T.4]   -12.6200      4.178     -3.021      0.003     -20.812      -4.428\n",
       "C(heuristic)[T.4]:C(board_id)[T.4]    -8.9900      4.178     -2.152      0.032     -17.182      -0.798\n",
       "C(heuristic)[T.2]:C(board_id)[T.5]     2.7000      4.178      0.646      0.518      -5.492      10.892\n",
       "C(heuristic)[T.3]:C(board_id)[T.5]     3.5200      4.178      0.843      0.400      -4.672      11.712\n",
       "C(heuristic)[T.4]:C(board_id)[T.5]     0.0600      4.178      0.014      0.989      -8.132       8.252\n",
       "C(heuristic)[T.2]:C(board_id)[T.6]     9.1300      4.178      2.185      0.029       0.938      17.322\n",
       "C(heuristic)[T.3]:C(board_id)[T.6]    -3.6600      4.178     -0.876      0.381     -11.852       4.532\n",
       "C(heuristic)[T.4]:C(board_id)[T.6]    -7.3000      4.178     -1.747      0.081     -15.492       0.892\n",
       "==============================================================================\n",
       "Omnibus:                      852.000   Durbin-Watson:                   2.057\n",
       "Prob(Omnibus):                  0.000   Jarque-Bera (JB):            14272.120\n",
       "Skew:                           0.992   Prob(JB):                         0.00\n",
       "Kurtosis:                      13.881   Cond. No.                         37.7\n",
       "==============================================================================\n",
       "\n",
       "Warnings:\n",
       "[1] Standard Errors assume that the covariance matrix of the errors is correctly specified.\n",
       "\"\"\""
      ]
     },
     "execution_count": 20,
     "metadata": {},
     "output_type": "execute_result"
    }
   ],
   "source": [
    "lm.summary()"
   ]
  }
 ],
 "metadata": {
  "kernelspec": {
   "display_name": "Python 3",
   "language": "python",
   "name": "python3"
  },
  "language_info": {
   "codemirror_mode": {
    "name": "ipython",
    "version": 3
   },
   "file_extension": ".py",
   "mimetype": "text/x-python",
   "name": "python",
   "nbconvert_exporter": "python",
   "pygments_lexer": "ipython3",
   "version": "3.7.3"
  }
 },
 "nbformat": 4,
 "nbformat_minor": 2
}
