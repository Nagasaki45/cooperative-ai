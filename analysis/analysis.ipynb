{
 "cells": [
  {
   "cell_type": "code",
   "execution_count": 1,
   "metadata": {},
   "outputs": [],
   "source": [
    "import json\n",
    "import pathlib\n",
    "\n",
    "import pandas as pd\n",
    "import seaborn as sns\n",
    "import statsmodels.api as sm\n",
    "import statsmodels.formula.api as smf\n",
    "\n",
    "sns.set_style('whitegrid')"
   ]
  },
  {
   "cell_type": "code",
   "execution_count": 2,
   "metadata": {},
   "outputs": [],
   "source": [
    "DATA_DIR = pathlib.Path('../data')\n",
    "HEURISTICS = [\n",
    "    'Solo Binary',\n",
    "    'Joint Binary',\n",
    "    'Solo Distance',\n",
    "    'Joint Distance',\n",
    "]"
   ]
  },
  {
   "cell_type": "markdown",
   "metadata": {},
   "source": [
    "# Load data"
   ]
  },
  {
   "cell_type": "code",
   "execution_count": 3,
   "metadata": {},
   "outputs": [],
   "source": [
    "def load_data(filepath):\n",
    "    with open(filepath) as f:\n",
    "        return json.load(f)"
   ]
  },
  {
   "cell_type": "code",
   "execution_count": 4,
   "metadata": {},
   "outputs": [],
   "source": [
    "def to_record(experiment):\n",
    "    return {\n",
    "        'map': experiment['gs']['boardID'] + 1,\n",
    "        'ticks': experiment['gs']['tick'],\n",
    "        'heuristic': experiment['agentsParams'][0]['heuristic_method'],\n",
    "    }"
   ]
  },
  {
   "cell_type": "code",
   "execution_count": 5,
   "metadata": {
    "scrolled": false
   },
   "outputs": [],
   "source": [
    "df = pd.DataFrame.from_records(to_record(x) for x in load_data(DATA_DIR / '200_ticks.json'))\n",
    "df['success'] = df['ticks'] < 200\n",
    "df['solo'] = (df['heuristic'] % 2).astype(bool)\n",
    "df['binary'] = df['heuristic'] < 3"
   ]
  },
  {
   "cell_type": "markdown",
   "metadata": {},
   "source": [
    "# Success rate"
   ]
  },
  {
   "cell_type": "code",
   "execution_count": 6,
   "metadata": {},
   "outputs": [
    {
     "data": {
      "text/plain": [
       "<matplotlib.legend.Legend at 0x7fec1c9de208>"
      ]
     },
     "execution_count": 6,
     "metadata": {},
     "output_type": "execute_result"
    },
    {
     "data": {
      "image/png": "[encoded data removed]",
      "text/plain": [
       "<Figure size 432x288 with 1 Axes>"
      ]
     },
     "metadata": {
      "needs_background": "light"
     },
     "output_type": "display_data"
    }
   ],
   "source": [
    "ax = sns.barplot(\n",
    "    y='success',\n",
    "    x='map',\n",
    "    hue='heuristic',\n",
    "    data=df.groupby(['map', 'heuristic']).mean().reset_index(),\n",
    ")\n",
    "\n",
    "# Axes\n",
    "ax.set_xlabel('Map')\n",
    "ax.set_ylabel('Success rate')\n",
    "\n",
    "# Legend\n",
    "handles, _ = ax.get_legend_handles_labels()\n",
    "for handle, heuristic in zip(handles, HEURISTICS):\n",
    "    handle.set_label(heuristic)\n",
    "ax.legend(bbox_to_anchor=(1, 0.7))"
   ]
  },
  {
   "cell_type": "markdown",
   "metadata": {},
   "source": [
    "Overall success rate"
   ]
  },
  {
   "cell_type": "code",
   "execution_count": 7,
   "metadata": {},
   "outputs": [
    {
     "data": {
      "text/plain": [
       "0.945"
      ]
     },
     "execution_count": 7,
     "metadata": {},
     "output_type": "execute_result"
    }
   ],
   "source": [
    "df['success'].mean()"
   ]
  },
  {
   "cell_type": "markdown",
   "metadata": {},
   "source": [
    "Map 3 success rate"
   ]
  },
  {
   "cell_type": "code",
   "execution_count": 8,
   "metadata": {},
   "outputs": [
    {
     "data": {
      "text/plain": [
       "0.615"
      ]
     },
     "execution_count": 8,
     "metadata": {},
     "output_type": "execute_result"
    }
   ],
   "source": [
    "df[df['map'] == 3]['success'].mean()"
   ]
  },
  {
   "cell_type": "markdown",
   "metadata": {},
   "source": [
    "# ANOVA\n",
    "\n",
    "Successes only!\n",
    "\n",
    "`ticks ~ solo * binary * map`"
   ]
  },
  {
   "cell_type": "code",
   "execution_count": 9,
   "metadata": {},
   "outputs": [],
   "source": [
    "df = df[df['success']]"
   ]
  },
  {
   "cell_type": "code",
   "execution_count": 10,
   "metadata": {},
   "outputs": [],
   "source": [
    "lm = smf.ols('ticks ~ C(solo) * C(binary) * C(map)', data=df).fit()"
   ]
  },
  {
   "cell_type": "code",
   "execution_count": 11,
   "metadata": {
    "scrolled": false
   },
   "outputs": [
    {
     "data": {
      "text/html": [
       "<table class=\"simpletable\">\n",
       "<caption>OLS Regression Results</caption>\n",
       "<tr>\n",
       "  <th>Dep. Variable:</th>          <td>ticks</td>      <th>  R-squared:         </th> <td>   0.669</td> \n",
       "</tr>\n",
       "<tr>\n",
       "  <th>Model:</th>                   <td>OLS</td>       <th>  Adj. R-squared:    </th> <td>   0.665</td> \n",
       "</tr>\n",
       "<tr>\n",
       "  <th>Method:</th>             <td>Least Squares</td>  <th>  F-statistic:       </th> <td>   195.7</td> \n",
       "</tr>\n",
       "<tr>\n",
       "  <th>Date:</th>             <td>Fri, 14 Jun 2019</td> <th>  Prob (F-statistic):</th>  <td>  0.00</td>  \n",
       "</tr>\n",
       "<tr>\n",
       "  <th>Time:</th>                 <td>15:36:44</td>     <th>  Log-Likelihood:    </th> <td> -10732.</td> \n",
       "</tr>\n",
       "<tr>\n",
       "  <th>No. Observations:</th>      <td>  2646</td>      <th>  AIC:               </th> <td>2.152e+04</td>\n",
       "</tr>\n",
       "<tr>\n",
       "  <th>Df Residuals:</th>          <td>  2618</td>      <th>  BIC:               </th> <td>2.169e+04</td>\n",
       "</tr>\n",
       "<tr>\n",
       "  <th>Df Model:</th>              <td>    27</td>      <th>                     </th>     <td> </td>    \n",
       "</tr>\n",
       "<tr>\n",
       "  <th>Covariance Type:</th>      <td>nonrobust</td>    <th>                     </th>     <td> </td>    \n",
       "</tr>\n",
       "</table>\n",
       "<table class=\"simpletable\">\n",
       "<tr>\n",
       "                        <td></td>                           <th>coef</th>     <th>std err</th>      <th>t</th>      <th>P>|t|</th>  <th>[0.025</th>    <th>0.975]</th>  \n",
       "</tr>\n",
       "<tr>\n",
       "  <th>Intercept</th>                                     <td>   22.8100</td> <td>    1.405</td> <td>   16.238</td> <td> 0.000</td> <td>   20.055</td> <td>   25.565</td>\n",
       "</tr>\n",
       "<tr>\n",
       "  <th>C(solo)[T.True]</th>                               <td>    4.0400</td> <td>    1.987</td> <td>    2.034</td> <td> 0.042</td> <td>    0.144</td> <td>    7.936</td>\n",
       "</tr>\n",
       "<tr>\n",
       "  <th>C(binary)[T.True]</th>                             <td>   -4.9300</td> <td>    1.987</td> <td>   -2.482</td> <td> 0.013</td> <td>   -8.826</td> <td>   -1.034</td>\n",
       "</tr>\n",
       "<tr>\n",
       "  <th>C(map)[T.2]</th>                                   <td>   -0.4400</td> <td>    1.987</td> <td>   -0.221</td> <td> 0.825</td> <td>   -4.336</td> <td>    3.456</td>\n",
       "</tr>\n",
       "<tr>\n",
       "  <th>C(map)[T.3]</th>                                   <td>   42.4059</td> <td>    2.053</td> <td>   20.653</td> <td> 0.000</td> <td>   38.380</td> <td>   46.432</td>\n",
       "</tr>\n",
       "<tr>\n",
       "  <th>C(map)[T.4]</th>                                   <td>   -4.9000</td> <td>    1.987</td> <td>   -2.466</td> <td> 0.014</td> <td>   -8.796</td> <td>   -1.004</td>\n",
       "</tr>\n",
       "<tr>\n",
       "  <th>C(map)[T.5]</th>                                   <td>   11.8000</td> <td>    1.987</td> <td>    5.940</td> <td> 0.000</td> <td>    7.904</td> <td>   15.696</td>\n",
       "</tr>\n",
       "<tr>\n",
       "  <th>C(map)[T.6]</th>                                   <td>    1.8600</td> <td>    1.987</td> <td>    0.936</td> <td> 0.349</td> <td>   -2.036</td> <td>    5.756</td>\n",
       "</tr>\n",
       "<tr>\n",
       "  <th>C(map)[T.7]</th>                                   <td>   -5.7300</td> <td>    1.987</td> <td>   -2.884</td> <td> 0.004</td> <td>   -9.626</td> <td>   -1.834</td>\n",
       "</tr>\n",
       "<tr>\n",
       "  <th>C(solo)[T.True]:C(binary)[T.True]</th>             <td>   -3.6900</td> <td>    2.810</td> <td>   -1.313</td> <td> 0.189</td> <td>   -9.199</td> <td>    1.819</td>\n",
       "</tr>\n",
       "<tr>\n",
       "  <th>C(solo)[T.True]:C(map)[T.2]</th>                   <td>    1.3700</td> <td>    2.810</td> <td>    0.488</td> <td> 0.626</td> <td>   -4.139</td> <td>    6.879</td>\n",
       "</tr>\n",
       "<tr>\n",
       "  <th>C(solo)[T.True]:C(map)[T.3]</th>                   <td>    7.9169</td> <td>    2.937</td> <td>    2.696</td> <td> 0.007</td> <td>    2.158</td> <td>   13.676</td>\n",
       "</tr>\n",
       "<tr>\n",
       "  <th>C(solo)[T.True]:C(map)[T.4]</th>                   <td>    3.8700</td> <td>    2.810</td> <td>    1.377</td> <td> 0.168</td> <td>   -1.639</td> <td>    9.379</td>\n",
       "</tr>\n",
       "<tr>\n",
       "  <th>C(solo)[T.True]:C(map)[T.5]</th>                   <td>   -3.6300</td> <td>    2.810</td> <td>   -1.292</td> <td> 0.196</td> <td>   -9.139</td> <td>    1.879</td>\n",
       "</tr>\n",
       "<tr>\n",
       "  <th>C(solo)[T.True]:C(map)[T.6]</th>                   <td>    3.4600</td> <td>    2.810</td> <td>    1.232</td> <td> 0.218</td> <td>   -2.049</td> <td>    8.969</td>\n",
       "</tr>\n",
       "<tr>\n",
       "  <th>C(solo)[T.True]:C(map)[T.7]</th>                   <td>    3.6400</td> <td>    2.810</td> <td>    1.296</td> <td> 0.195</td> <td>   -1.869</td> <td>    9.149</td>\n",
       "</tr>\n",
       "<tr>\n",
       "  <th>C(binary)[T.True]:C(map)[T.2]</th>                 <td>    6.4800</td> <td>    2.810</td> <td>    2.306</td> <td> 0.021</td> <td>    0.971</td> <td>   11.989</td>\n",
       "</tr>\n",
       "<tr>\n",
       "  <th>C(binary)[T.True]:C(map)[T.3]</th>                 <td>   60.2379</td> <td>    3.948</td> <td>   15.258</td> <td> 0.000</td> <td>   52.497</td> <td>   67.979</td>\n",
       "</tr>\n",
       "<tr>\n",
       "  <th>C(binary)[T.True]:C(map)[T.4]</th>                 <td>   11.9800</td> <td>    2.810</td> <td>    4.264</td> <td> 0.000</td> <td>    6.471</td> <td>   17.489</td>\n",
       "</tr>\n",
       "<tr>\n",
       "  <th>C(binary)[T.True]:C(map)[T.5]</th>                 <td>   -2.4500</td> <td>    2.810</td> <td>   -0.872</td> <td> 0.383</td> <td>   -7.959</td> <td>    3.059</td>\n",
       "</tr>\n",
       "<tr>\n",
       "  <th>C(binary)[T.True]:C(map)[T.6]</th>                 <td>    2.6400</td> <td>    2.810</td> <td>    0.940</td> <td> 0.347</td> <td>   -2.869</td> <td>    8.149</td>\n",
       "</tr>\n",
       "<tr>\n",
       "  <th>C(binary)[T.True]:C(map)[T.7]</th>                 <td>   16.4300</td> <td>    2.810</td> <td>    5.848</td> <td> 0.000</td> <td>   10.921</td> <td>   21.939</td>\n",
       "</tr>\n",
       "<tr>\n",
       "  <th>C(solo)[T.True]:C(binary)[T.True]:C(map)[T.2]</th> <td>   -4.9000</td> <td>    3.973</td> <td>   -1.233</td> <td> 0.218</td> <td>  -12.691</td> <td>    2.891</td>\n",
       "</tr>\n",
       "<tr>\n",
       "  <th>C(solo)[T.True]:C(binary)[T.True]:C(map)[T.3]</th> <td>  -10.4336</td> <td>    5.049</td> <td>   -2.066</td> <td> 0.039</td> <td>  -20.334</td> <td>   -0.533</td>\n",
       "</tr>\n",
       "<tr>\n",
       "  <th>C(solo)[T.True]:C(binary)[T.True]:C(map)[T.4]</th> <td>   -9.0900</td> <td>    3.973</td> <td>   -2.288</td> <td> 0.022</td> <td>  -16.881</td> <td>   -1.299</td>\n",
       "</tr>\n",
       "<tr>\n",
       "  <th>C(solo)[T.True]:C(binary)[T.True]:C(map)[T.5]</th> <td>   15.0700</td> <td>    3.973</td> <td>    3.793</td> <td> 0.000</td> <td>    7.279</td> <td>   22.861</td>\n",
       "</tr>\n",
       "<tr>\n",
       "  <th>C(solo)[T.True]:C(binary)[T.True]:C(map)[T.6]</th> <td>   -6.1600</td> <td>    3.973</td> <td>   -1.550</td> <td> 0.121</td> <td>  -13.951</td> <td>    1.631</td>\n",
       "</tr>\n",
       "<tr>\n",
       "  <th>C(solo)[T.True]:C(binary)[T.True]:C(map)[T.7]</th> <td>  -12.7700</td> <td>    3.973</td> <td>   -3.214</td> <td> 0.001</td> <td>  -20.561</td> <td>   -4.979</td>\n",
       "</tr>\n",
       "</table>\n",
       "<table class=\"simpletable\">\n",
       "<tr>\n",
       "  <th>Omnibus:</th>       <td>1238.897</td> <th>  Durbin-Watson:     </th> <td>   2.066</td> \n",
       "</tr>\n",
       "<tr>\n",
       "  <th>Prob(Omnibus):</th>  <td> 0.000</td>  <th>  Jarque-Bera (JB):  </th> <td>14549.857</td>\n",
       "</tr>\n",
       "<tr>\n",
       "  <th>Skew:</th>           <td> 1.909</td>  <th>  Prob(JB):          </th> <td>    0.00</td> \n",
       "</tr>\n",
       "<tr>\n",
       "  <th>Kurtosis:</th>       <td>13.835</td>  <th>  Cond. No.          </th> <td>    52.8</td> \n",
       "</tr>\n",
       "</table><br/><br/>Warnings:<br/>[1] Standard Errors assume that the covariance matrix of the errors is correctly specified."
      ],
      "text/plain": [
       "<class 'statsmodels.iolib.summary.Summary'>\n",
       "\"\"\"\n",
       "                            OLS Regression Results                            \n",
       "==============================================================================\n",
       "Dep. Variable:                  ticks   R-squared:                       0.669\n",
       "Model:                            OLS   Adj. R-squared:                  0.665\n",
       "Method:                 Least Squares   F-statistic:                     195.7\n",
       "Date:                Fri, 14 Jun 2019   Prob (F-statistic):               0.00\n",
       "Time:                        15:36:44   Log-Likelihood:                -10732.\n",
       "No. Observations:                2646   AIC:                         2.152e+04\n",
       "Df Residuals:                    2618   BIC:                         2.169e+04\n",
       "Df Model:                          27                                         \n",
       "Covariance Type:            nonrobust                                         \n",
       "=================================================================================================================\n",
       "                                                    coef    std err          t      P>|t|      [0.025      0.975]\n",
       "-----------------------------------------------------------------------------------------------------------------\n",
       "Intercept                                        22.8100      1.405     16.238      0.000      20.055      25.565\n",
       "C(solo)[T.True]                                   4.0400      1.987      2.034      0.042       0.144       7.936\n",
       "C(binary)[T.True]                                -4.9300      1.987     -2.482      0.013      -8.826      -1.034\n",
       "C(map)[T.2]                                      -0.4400      1.987     -0.221      0.825      -4.336       3.456\n",
       "C(map)[T.3]                                      42.4059      2.053     20.653      0.000      38.380      46.432\n",
       "C(map)[T.4]                                      -4.9000      1.987     -2.466      0.014      -8.796      -1.004\n",
       "C(map)[T.5]                                      11.8000      1.987      5.940      0.000       7.904      15.696\n",
       "C(map)[T.6]                                       1.8600      1.987      0.936      0.349      -2.036       5.756\n",
       "C(map)[T.7]                                      -5.7300      1.987     -2.884      0.004      -9.626      -1.834\n",
       "C(solo)[T.True]:C(binary)[T.True]                -3.6900      2.810     -1.313      0.189      -9.199       1.819\n",
       "C(solo)[T.True]:C(map)[T.2]                       1.3700      2.810      0.488      0.626      -4.139       6.879\n",
       "C(solo)[T.True]:C(map)[T.3]                       7.9169      2.937      2.696      0.007       2.158      13.676\n",
       "C(solo)[T.True]:C(map)[T.4]                       3.8700      2.810      1.377      0.168      -1.639       9.379\n",
       "C(solo)[T.True]:C(map)[T.5]                      -3.6300      2.810     -1.292      0.196      -9.139       1.879\n",
       "C(solo)[T.True]:C(map)[T.6]                       3.4600      2.810      1.232      0.218      -2.049       8.969\n",
       "C(solo)[T.True]:C(map)[T.7]                       3.6400      2.810      1.296      0.195      -1.869       9.149\n",
       "C(binary)[T.True]:C(map)[T.2]                     6.4800      2.810      2.306      0.021       0.971      11.989\n",
       "C(binary)[T.True]:C(map)[T.3]                    60.2379      3.948     15.258      0.000      52.497      67.979\n",
       "C(binary)[T.True]:C(map)[T.4]                    11.9800      2.810      4.264      0.000       6.471      17.489\n",
       "C(binary)[T.True]:C(map)[T.5]                    -2.4500      2.810     -0.872      0.383      -7.959       3.059\n",
       "C(binary)[T.True]:C(map)[T.6]                     2.6400      2.810      0.940      0.347      -2.869       8.149\n",
       "C(binary)[T.True]:C(map)[T.7]                    16.4300      2.810      5.848      0.000      10.921      21.939\n",
       "C(solo)[T.True]:C(binary)[T.True]:C(map)[T.2]    -4.9000      3.973     -1.233      0.218     -12.691       2.891\n",
       "C(solo)[T.True]:C(binary)[T.True]:C(map)[T.3]   -10.4336      5.049     -2.066      0.039     -20.334      -0.533\n",
       "C(solo)[T.True]:C(binary)[T.True]:C(map)[T.4]    -9.0900      3.973     -2.288      0.022     -16.881      -1.299\n",
       "C(solo)[T.True]:C(binary)[T.True]:C(map)[T.5]    15.0700      3.973      3.793      0.000       7.279      22.861\n",
       "C(solo)[T.True]:C(binary)[T.True]:C(map)[T.6]    -6.1600      3.973     -1.550      0.121     -13.951       1.631\n",
       "C(solo)[T.True]:C(binary)[T.True]:C(map)[T.7]   -12.7700      3.973     -3.214      0.001     -20.561      -4.979\n",
       "==============================================================================\n",
       "Omnibus:                     1238.897   Durbin-Watson:                   2.066\n",
       "Prob(Omnibus):                  0.000   Jarque-Bera (JB):            14549.857\n",
       "Skew:                           1.909   Prob(JB):                         0.00\n",
       "Kurtosis:                      13.835   Cond. No.                         52.8\n",
       "==============================================================================\n",
       "\n",
       "Warnings:\n",
       "[1] Standard Errors assume that the covariance matrix of the errors is correctly specified.\n",
       "\"\"\""
      ]
     },
     "execution_count": 11,
     "metadata": {},
     "output_type": "execute_result"
    }
   ],
   "source": [
    "lm.summary()"
   ]
  },
  {
   "cell_type": "code",
   "execution_count": 12,
   "metadata": {},
   "outputs": [
    {
     "data": {
      "text/html": [
       "<div>\n",
       "<style scoped>\n",
       "    .dataframe tbody tr th:only-of-type {\n",
       "        vertical-align: middle;\n",
       "    }\n",
       "\n",
       "    .dataframe tbody tr th {\n",
       "        vertical-align: top;\n",
       "    }\n",
       "\n",
       "    .dataframe thead th {\n",
       "        text-align: right;\n",
       "    }\n",
       "</style>\n",
       "<table border=\"1\" class=\"dataframe\">\n",
       "  <thead>\n",
       "    <tr style=\"text-align: right;\">\n",
       "      <th></th>\n",
       "      <th>df</th>\n",
       "      <th>sum_sq</th>\n",
       "      <th>mean_sq</th>\n",
       "      <th>F</th>\n",
       "      <th>PR(&gt;F)</th>\n",
       "    </tr>\n",
       "  </thead>\n",
       "  <tbody>\n",
       "    <tr>\n",
       "      <th>C(solo)</th>\n",
       "      <td>1.0</td>\n",
       "      <td>15225.765525</td>\n",
       "      <td>15225.765525</td>\n",
       "      <td>77.157530</td>\n",
       "      <td>2.796836e-18</td>\n",
       "    </tr>\n",
       "    <tr>\n",
       "      <th>C(binary)</th>\n",
       "      <td>1.0</td>\n",
       "      <td>3474.791951</td>\n",
       "      <td>3474.791951</td>\n",
       "      <td>17.608728</td>\n",
       "      <td>2.803775e-05</td>\n",
       "    </tr>\n",
       "    <tr>\n",
       "      <th>C(map)</th>\n",
       "      <td>6.0</td>\n",
       "      <td>870508.954865</td>\n",
       "      <td>145084.825811</td>\n",
       "      <td>735.226537</td>\n",
       "      <td>0.000000e+00</td>\n",
       "    </tr>\n",
       "    <tr>\n",
       "      <th>C(solo):C(binary)</th>\n",
       "      <td>1.0</td>\n",
       "      <td>5731.219229</td>\n",
       "      <td>5731.219229</td>\n",
       "      <td>29.043316</td>\n",
       "      <td>7.708793e-08</td>\n",
       "    </tr>\n",
       "    <tr>\n",
       "      <th>C(solo):C(map)</th>\n",
       "      <td>6.0</td>\n",
       "      <td>14160.940657</td>\n",
       "      <td>2360.156776</td>\n",
       "      <td>11.960244</td>\n",
       "      <td>2.737262e-13</td>\n",
       "    </tr>\n",
       "    <tr>\n",
       "      <th>C(binary):C(map)</th>\n",
       "      <td>6.0</td>\n",
       "      <td>121020.297397</td>\n",
       "      <td>20170.049566</td>\n",
       "      <td>102.213003</td>\n",
       "      <td>6.990522e-116</td>\n",
       "    </tr>\n",
       "    <tr>\n",
       "      <th>C(solo):C(binary):C(map)</th>\n",
       "      <td>6.0</td>\n",
       "      <td>12621.823610</td>\n",
       "      <td>2103.637268</td>\n",
       "      <td>10.660315</td>\n",
       "      <td>9.856165e-12</td>\n",
       "    </tr>\n",
       "    <tr>\n",
       "      <th>Residual</th>\n",
       "      <td>2618.0</td>\n",
       "      <td>516619.103212</td>\n",
       "      <td>197.333500</td>\n",
       "      <td>NaN</td>\n",
       "      <td>NaN</td>\n",
       "    </tr>\n",
       "  </tbody>\n",
       "</table>\n",
       "</div>"
      ],
      "text/plain": [
       "                              df         sum_sq        mean_sq           F  \\\n",
       "C(solo)                      1.0   15225.765525   15225.765525   77.157530   \n",
       "C(binary)                    1.0    3474.791951    3474.791951   17.608728   \n",
       "C(map)                       6.0  870508.954865  145084.825811  735.226537   \n",
       "C(solo):C(binary)            1.0    5731.219229    5731.219229   29.043316   \n",
       "C(solo):C(map)               6.0   14160.940657    2360.156776   11.960244   \n",
       "C(binary):C(map)             6.0  121020.297397   20170.049566  102.213003   \n",
       "C(solo):C(binary):C(map)     6.0   12621.823610    2103.637268   10.660315   \n",
       "Residual                  2618.0  516619.103212     197.333500         NaN   \n",
       "\n",
       "                                 PR(>F)  \n",
       "C(solo)                    2.796836e-18  \n",
       "C(binary)                  2.803775e-05  \n",
       "C(map)                     0.000000e+00  \n",
       "C(solo):C(binary)          7.708793e-08  \n",
       "C(solo):C(map)             2.737262e-13  \n",
       "C(binary):C(map)          6.990522e-116  \n",
       "C(solo):C(binary):C(map)   9.856165e-12  \n",
       "Residual                            NaN  "
      ]
     },
     "execution_count": 12,
     "metadata": {},
     "output_type": "execute_result"
    }
   ],
   "source": [
    "aov_table = sm.stats.anova_lm(lm)\n",
    "aov_table"
   ]
  },
  {
   "cell_type": "markdown",
   "metadata": {},
   "source": [
    "[Reference for eta_sq](https://pythonfordatascience.org/anova-python/)."
   ]
  },
  {
   "cell_type": "code",
   "execution_count": 13,
   "metadata": {
    "scrolled": true
   },
   "outputs": [
    {
     "data": {
      "text/plain": [
       "C(solo)                     0.009764\n",
       "C(binary)                   0.002228\n",
       "C(map)                      0.558247\n",
       "C(solo):C(binary)           0.003675\n",
       "C(solo):C(map)              0.009081\n",
       "C(binary):C(map)            0.077609\n",
       "C(solo):C(binary):C(map)    0.008094\n",
       "Residual                    0.331301\n",
       "Name: eta_sq, dtype: float64"
      ]
     },
     "execution_count": 13,
     "metadata": {},
     "output_type": "execute_result"
    }
   ],
   "source": [
    "def eta_sq(aov):\n",
    "    result = aov['sum_sq'] / aov['sum_sq'].sum()\n",
    "    return result.rename('eta_sq')\n",
    "\n",
    "eta_sq(aov_table)"
   ]
  },
  {
   "cell_type": "markdown",
   "metadata": {},
   "source": [
    "## More plots"
   ]
  },
  {
   "cell_type": "code",
   "execution_count": 14,
   "metadata": {
    "scrolled": false
   },
   "outputs": [
    {
     "data": {
      "text/plain": [
       "Text(0.5, 6.800000000000029, 'Map')"
      ]
     },
     "execution_count": 14,
     "metadata": {},
     "output_type": "execute_result"
    },
    {
     "data": {
      "image/png": "[encoded data removed]",
      "text/plain": [
       "<Figure size 720x720 with 4 Axes>"
      ]
     },
     "metadata": {
      "needs_background": "light"
     },
     "output_type": "display_data"
    }
   ],
   "source": [
    "ax = sns.catplot(\n",
    "    y='ticks',\n",
    "    x='map',\n",
    "    col='binary',\n",
    "    row='solo',\n",
    "    data=df,\n",
    "    kind='bar',\n",
    "    col_order=[True, False],\n",
    "    row_order=[True, False],\n",
    ")\n",
    "\n",
    "ax.axes[0, 0].set_title('Binary')\n",
    "ax.axes[0, 1].set_title('Distance')\n",
    "ax.axes[1, 0].set_title('')\n",
    "ax.axes[1, 1].set_title('')\n",
    "\n",
    "ax.axes[0, 0].set_ylabel('Solo')\n",
    "ax.axes[1, 0].set_ylabel('Joint')\n",
    "\n",
    "ax.axes[1, 0].set_xlabel('Map')\n",
    "ax.axes[1, 1].set_xlabel('Map')"
   ]
  }
 ],
 "metadata": {
  "kernelspec": {
   "display_name": "Python 3",
   "language": "python",
   "name": "python3"
  },
  "language_info": {
   "codemirror_mode": {
    "name": "ipython",
    "version": 3
   },
   "file_extension": ".py",
   "mimetype": "text/x-python",
   "name": "python",
   "nbconvert_exporter": "python",
   "pygments_lexer": "ipython3",
   "version": "3.7.3"
  }
 },
 "nbformat": 4,
 "nbformat_minor": 2
}
